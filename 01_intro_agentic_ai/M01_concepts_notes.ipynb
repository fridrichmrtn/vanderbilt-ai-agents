{
 "cells": [
  {
   "cell_type": "markdown",
   "id": "18684078",
   "metadata": {},
   "source": [
    "# Concepts of Agentic AI\n",
    "\n",
    "* agentic ai behaves with agency and autonomy, can problem-solve and react to different real-life situation\n",
    "* flipped interaction pattern -> agentic system interacts with humans and other systems, without us necessary telling it what to do, in order to accomplish a goal we gave it\n",
    "\n",
    "* agent loop (general)\n",
    "    * human sets a goal\n",
    "    * ai takes actions towards the goal using available resources (APIs, SQLs, etc)\n",
    "        * prompt -> response -> action\n",
    "        * get feedback on result from ai\n",
    "    * termination criteria reached, return result\n",
    "\n",
    "* agent loop\n",
    "    * construct prompt\n",
    "    * generate response\n",
    "    * parse response\n",
    "    * execute action\n",
    "    * convert results to string\n",
    "    * continue?"
   ]
  },
  {
   "cell_type": "code",
   "execution_count": 1,
   "id": "e9f15747",
   "metadata": {},
   "outputs": [],
   "source": [
    "import os\n",
    "with open(\"openai_token\", \"r\") as file:\n",
    "    openai_token = file.read().strip()\n",
    "os.environ[\"OPENAI_API_KEY\"] = openai_token"
   ]
  },
  {
   "cell_type": "code",
   "execution_count": 13,
   "id": "4e6b060b",
   "metadata": {},
   "outputs": [
    {
     "name": "stdout",
     "output_type": "stream",
     "text": [
      "ZGVmIHN3YXBfZGljdChkKTogDQogICAgcmV0dXJuIHt2OiBrIGZvciBrLCB2IGluIGQuaXRlbXMoKX0=\n"
     ]
    }
   ],
   "source": [
    "# scaffolding example\n",
    "import base64\n",
    "from typing import List, Dict\n",
    "from litellm import completion\n",
    "\n",
    "def generate_response(messages:List[Dict]) -> str:\n",
    "    response = completion(\n",
    "        model=\"openai/gpt-4o\",\n",
    "        messages=messages,\n",
    "        max_tokens=1024,\n",
    "        #temperature=0.7\n",
    "    )\n",
    "    return response.choices[0].message.content\n",
    "\n",
    "messages = [\n",
    "    {\"role\": \"system\", \"content\": \"You are an expert software engineer that prefers functional programming. Return Base64 encoded string only\"},\n",
    "    {\"role\": \"user\", \"content\": \"Write a function to swap the keys and values in a dictionary.\"}\n",
    "]\n",
    "\n",
    "response = generate_response(messages)\n",
    "print(response)"
   ]
  },
  {
   "cell_type": "code",
   "execution_count": 15,
   "id": "4370a1b9",
   "metadata": {},
   "outputs": [
    {
     "name": "stdout",
     "output_type": "stream",
     "text": [
      "```python\n",
      "def swap_keys_values(d):\n",
      "    \"\"\"\n",
      "    Swaps the keys and values in a dictionary where all values are unique.\n",
      "    \n",
      "    Parameters:\n",
      "    d (dict): A dictionary with unique values.\n",
      "    \n",
      "    Returns:\n",
      "    dict: A new dictionary with keys and values swapped. The original values become keys,\n",
      "          and the original keys become values.\n",
      "    \n",
      "    Example:\n",
      "    >>> swap_keys_values({'a': 1, 'b': 2, 'c': 3})\n",
      "    {1: 'a', 2: 'b', 3: 'c'}\n",
      "    \"\"\"\n",
      "    return {value: key for key, value in d.items()}\n",
      "```\n",
      "\n",
      "This function creates a new dictionary by iterating over the items of the input dictionary and constructs key-value pairs by reversing the original key-value relationship. Since the original values are required to be unique, they can safely be used as keys in the new dictionary.\n"
     ]
    }
   ],
   "source": [
    "# lets try a bit of programmatic prompting\n",
    "import json\n",
    "\n",
    "code_spec = {\n",
    "    \"name\": \"swap_keys_values\",\n",
    "    \"description\": \"A function that swaps the keys and values in a dictionary.\",\n",
    "    \"parameters\": {\n",
    "        \"d\": \"A dictionary with unique values.\"}\n",
    "    }\n",
    "\n",
    "messages = [\n",
    "    {\"role\": \"system\",\n",
    "     \"content\": \"You are an expert software engineer that writes clean functional code. You always document your functions.\"},\n",
    "    {\"role\": \"user\", \"content\": f\"Please implement: {json.dumps(code_spec)}\"}\n",
    "]\n",
    "\n",
    "response = generate_response(messages)\n",
    "print(response)"
   ]
  },
  {
   "cell_type": "code",
   "execution_count": 16,
   "id": "2380a6f0",
   "metadata": {},
   "outputs": [
    {
     "name": "stdout",
     "output_type": "stream",
     "text": [
      "Certainly! The function already contains a docstring for documentation, but let me expand it a little further to make it more comprehensive, detailing more about the assumptions and functionality:\n",
      "\n",
      "```python\n",
      "def swap_keys_values(d):\n",
      "    \"\"\"\n",
      "    Swaps the keys and values in a dictionary, assuming all values are unique.\n",
      "    \n",
      "    Parameters:\n",
      "    d (dict): A dictionary where all the values are unique and hashable. \n",
      "    \n",
      "    Returns:\n",
      "    dict: A new dictionary with the keys and values swapped. The values of the input\n",
      "          dictionary become the keys, and the keys become the corresponding values.\n",
      "          \n",
      "    Raises:\n",
      "    ValueError: If any duplicates are found among the values in the input dictionary,\n",
      "                as they would cause collisions in the new dictionary where those values\n",
      "                become keys.\n",
      "\n",
      "    Example:\n",
      "    >>> swap_keys_values({'a': 1, 'b': 2, 'c': 3})\n",
      "    {1: 'a', 2: 'b', 3: 'c'}\n",
      "\n",
      "    Note:\n",
      "    - This function assumes that all values in the input dictionary are unique and hashable.\n",
      "    - If there's a possibility of duplicate values, you should handle it prior to calling\n",
      "      this function or modify the function to perhaps collect all keys for each value.\n",
      "    \"\"\"\n",
      "    if len(set(d.values())) != len(d):\n",
      "        raise ValueError(\"Duplicate values found in the dictionary. All values must be unique.\")\n",
      "    \n",
      "    return {value: key for key, value in d.items()}\n",
      "```\n",
      "\n",
      "This updated version of the function includes a check for duplicates and raises a `ValueError` if duplicates are detected, preventing collisions in the resulted swapped dictionary. The docstring now clearly explains this behavioral aspect, providing additional guidance to users about the function's assumptions and constraints.\n"
     ]
    }
   ],
   "source": [
    "# models do not recall previous conversations, so they need to be supplied in the messaging part\n",
    "messages = [\n",
    "   {\"role\": \"system\", \"content\": \"You are an expert software engineer that prefers functional programming.\"},\n",
    "   {\"role\": \"user\", \"content\": \"Write a function to swap the keys and values in a dictionary.\"},\n",
    "   \n",
    "   # Here is the assistant's response from the previous step\n",
    "   # with the code. This gives it \"memory\" of the previous\n",
    "   # interaction.\n",
    "   {\"role\": \"assistant\", \"content\": response},\n",
    "   {\"role\": \"user\", \"content\": \"Update the function to include documentation.\"}\n",
    "]\n",
    "\n",
    "response = generate_response(messages)\n",
    "print(response)"
   ]
  },
  {
   "cell_type": "markdown",
   "id": "c3e5a6fd",
   "metadata": {},
   "source": [
    "* system -> setting up the agent, most important part\n",
    "* user -> user inputs\n",
    "* assistant -> agent outputs  \n",
    "**-> memory through user + assistant history**"
   ]
  },
  {
   "cell_type": "code",
   "execution_count": 47,
   "id": "662d2c7b",
   "metadata": {},
   "outputs": [
    {
     "name": "stdout",
     "output_type": "stream",
     "text": [
      "{\n",
      "  \"exp\": \"The function `swap_keys_values` takes a dictionary as input and returns a new dictionary where the keys and values have been swapped. It assumes that the values in the input dictionary are unique and hashable, as they will be used as keys in the new dictionary. The implementation is done in a functional style using a dictionary comprehension.\",\n",
      "  \"code\": \"def swap_keys_values(d):\\n    return {v: k for k, v in d.items()}\"\n",
      "}\n"
     ]
    }
   ],
   "source": [
    "import json\n",
    "from typing import List, Dict\n",
    "from litellm import completion\n",
    "\n",
    "\n",
    "def generate_response(messages:List[Dict]) -> str:\n",
    "    response = completion(\n",
    "        model=\"openai/gpt-4o\",\n",
    "        messages=messages,\n",
    "        max_tokens=1024,\n",
    "        #temperature=0.7\n",
    "    )\n",
    "    return response.choices[0].message.content\n",
    "\n",
    "# first prompt\n",
    "messages = [\n",
    "   {\"role\": \"system\",\n",
    "    \"content\":\n",
    "        \"\"\"You are an expert software engineer that prefers functional programming.\n",
    "        You return parsable json only, with explanations under key exp and code under key code.\"\"\"},\n",
    "   {\"role\": \"user\",\n",
    "    \"content\":\n",
    "        \"Write a function to swap the keys and values in a dictionary.\"}]\n",
    "\n",
    "response = generate_response(messages)\n",
    "print(response)"
   ]
  },
  {
   "cell_type": "code",
   "execution_count": 48,
   "id": "f6c734d2",
   "metadata": {},
   "outputs": [
    {
     "name": "stdout",
     "output_type": "stream",
     "text": [
      "def swap_keys_values(d):\n",
      "    \"\"\"\n",
      "    Swap the keys and values in a given dictionary.\n",
      "    \n",
      "    Parameters:\n",
      "    d (dict): The dictionary to swap keys and values from. Assumes all values are unique and hashable.\n",
      "    \n",
      "    Returns:\n",
      "    dict: A new dictionary with keys and values swapped.\n",
      "    \n",
      "    Example:\n",
      "    >>> swap_keys_values({'a': 1, 'b': 2, 'c': 3})\n",
      "    {1: 'a', 2: 'b', 3: 'c'}\n",
      "\n",
      "    Edge Cases:\n",
      "    - If the input dictionary is empty, the function returns an empty dictionary.\n",
      "    - If the dictionary has non-hashable values (e.g., lists), the function will raise an error.\n",
      "    - If multiple keys map to the same value in the input dictionary (not allowed), a `ValueError` will occur.\n",
      "    \"\"\"\n",
      "    return {v: k for k, v in d.items()}\n",
      "\n",
      "# Example usage\n",
      "# swapped_dict = swap_keys_values({'a': 1, 'b': 2, 'c': 3})\n",
      "# print(swapped_dict)  # Output: {1: 'a', 2: 'b', 3: 'c'}\n"
     ]
    }
   ],
   "source": [
    "messages.append({\"role\": \"assistant\", \"content\": response})\n",
    "messages.append({\"role\": \"user\", \"content\":\n",
    "        \"\"\"Update the function to include documentation, parameter descriptions,\n",
    "        return value description, example usage, edge cases.\"\"\"})\n",
    "\n",
    "response = generate_response(messages)\n",
    "print(json.loads(response)[\"code\"])"
   ]
  },
  {
   "cell_type": "code",
   "execution_count": 50,
   "id": "05f68db6",
   "metadata": {},
   "outputs": [
    {
     "name": "stdout",
     "output_type": "stream",
     "text": [
      "def swap_keys_values(d):\n",
      "    \"\"\"\n",
      "    Swap the keys and values in a given dictionary.\n",
      "    \n",
      "    Parameters:\n",
      "    d (dict): The dictionary to swap keys and values from. Assumes all values are unique and hashable.\n",
      "    \n",
      "    Returns:\n",
      "    dict: A new dictionary with keys and values swapped.\n",
      "    \n",
      "    Example:\n",
      "    >>> swap_keys_values({'a': 1, 'b': 2, 'c': 3})\n",
      "    {1: 'a', 2: 'b', 3: 'c'}\n",
      "\n",
      "    Edge Cases:\n",
      "    - If the input dictionary is empty, the function returns an empty dictionary.\n",
      "    - If the dictionary has non-hashable values (e.g., lists), the function will raise an error.\n",
      "    - If multiple keys map to the same value in the input dictionary (not allowed), a `ValueError` will occur.\n",
      "    \"\"\"\n",
      "    return {v: k for k, v in d.items()}\n",
      "\n",
      "import unittest\n",
      "\n",
      "class TestSwapKeysValues(unittest.TestCase):\n",
      "    def test_typical_usage(self):\n",
      "        self.assertEqual(swap_keys_values({'a': 1, 'b': 2, 'c': 3}), {1: 'a', 2: 'b', 3: 'c'})\n",
      "\n",
      "    def test_empty_dict(self):\n",
      "        self.assertEqual(swap_keys_values({}), {})\n",
      "\n",
      "    def test_non_hashable_values(self):\n",
      "        with self.assertRaises(TypeError):\n",
      "            swap_keys_values({'a': [1, 2], 'b': [3, 4]})\n",
      "\n",
      "    def test_duplicate_values(self):\n",
      "        with self.assertRaises(ValueError):\n",
      "            swap_keys_values({'a': 1, 'b': 1})\n",
      "\n",
      "    def test_various_input_types(self):\n",
      "        self.assertEqual(swap_keys_values({1: 'one', 2: 'two'}), {'one': 1, 'two': 2})\n",
      "        self.assertEqual(swap_keys_values({True: 'yes', False: 'no'}), {'yes': True, 'no': False})\n",
      "\n",
      "if __name__ == '__main__':\n",
      "    unittest.main()\n",
      "\n",
      "# Note:\n",
      "# - The `test_duplicate_values` method is expected to raise a ValueError because keys cannot be duplicates in a dictionary swap operation.\n"
     ]
    }
   ],
   "source": [
    "messages.append({\"role\": \"assistant\", \"content\": response})\n",
    "messages.append({\"role\": \"user\", \"content\":\n",
    "       \"\"\"Add unit test for the function using unittest framework,\n",
    "       test should cover typical usage, edge cases, error cases and various\n",
    "       input types. The results should include original function and the tests.\"\"\"})\n",
    "\n",
    "response = generate_response(messages)\n",
    "print(json.loads(response)[\"code\"])"
   ]
  }
 ],
 "metadata": {
  "kernelspec": {
   "display_name": ".env",
   "language": "python",
   "name": "python3"
  },
  "language_info": {
   "codemirror_mode": {
    "name": "ipython",
    "version": 3
   },
   "file_extension": ".py",
   "mimetype": "text/x-python",
   "name": "python",
   "nbconvert_exporter": "python",
   "pygments_lexer": "ipython3",
   "version": "3.12.3"
  }
 },
 "nbformat": 4,
 "nbformat_minor": 5
}
