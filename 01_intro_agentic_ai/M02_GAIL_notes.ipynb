{
 "cells": [
  {
   "cell_type": "markdown",
   "id": "f0c11de7",
   "metadata": {},
   "source": [
    "# Goals, Actions, Information, Languages\n",
    "\n",
    "* goals\n",
    "    * persona\n",
    "    * rules\n",
    "    * process\n",
    "* actions\n",
    "    * available actions & tools\n",
    "* information\n",
    "    * task\n",
    "    * history\n",
    "    * inputs\n",
    "    * environment state\n",
    "* language\n",
    "\n",
    "* G, A, L -> system messages, I -> user messages\n",
    "\n",
    "## Tools\n",
    "\n",
    "* tools & actions available to LLM, to interact with the environment\n",
    "* tools (open) vs action (explicit, finite number of options)\n",
    "* both need to be properly named & described/specified, to be understand and correctly leveraged by LLM\n",
    "    * are tools optional or to be used in order, etc?\n",
    "* feedback from tools/environment critical for further actions"
   ]
  }
 ],
 "metadata": {
  "language_info": {
   "name": "python"
  }
 },
 "nbformat": 4,
 "nbformat_minor": 5
}
