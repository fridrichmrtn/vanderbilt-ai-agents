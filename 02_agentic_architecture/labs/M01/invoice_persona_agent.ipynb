{
 "cells": [
  {
   "cell_type": "markdown",
   "id": "e675eee7",
   "metadata": {},
   "source": [
    "\n",
    "# A Complete Persona Pattern Example\n",
    "\n",
    "In our previous tutorial, we built an **Invoice Processing Agent** that could extract and store structured invoice data.  \n",
    "Now, we will enhance this system by introducing **expert consultations** to handle two critical tasks:\n",
    "\n",
    "1. **Categorizing Expenditures**: The agent will consult an expert to classify each invoice into one of 20 predefined spending categories based on a one-sentence description.  \n",
    "2. **Checking Purchasing Rules**: The agent will validate whether the invoice follows company purchasing policies.  \n",
    "\n",
    "By using expert tools, we enable our agent to dynamically invoke specialized knowledge without hardcoding every rule, keeping the architecture clean and adaptable.  \n"
   ]
  },
  {
   "cell_type": "markdown",
   "id": "051c1496",
   "metadata": {},
   "source": [
    "## Step 1: Creating the Invoice Categorization Expert"
   ]
  },
  {
   "cell_type": "code",
   "execution_count": null,
   "id": "8bf30705",
   "metadata": {},
   "outputs": [],
   "source": [
    "\n",
    "@register_tool(tags=[\"invoice_processing\", \"categorization\"])\n",
    "def categorize_expenditure(action_context: ActionContext, description: str) -> str:\n",
    "    \"\"\"\n",
    "    Categorize an invoice expenditure based on a short description.\n",
    "    \"\"\"\n",
    "    categories = [\n",
    "        \"Office Supplies\", \"IT Equipment\", \"Software Licenses\", \"Consulting Services\", \n",
    "        \"Travel Expenses\", \"Marketing\", \"Training & Development\", \"Facilities Maintenance\",\n",
    "        \"Utilities\", \"Legal Services\", \"Insurance\", \"Medical Services\", \"Payroll\",\n",
    "        \"Research & Development\", \"Manufacturing Supplies\", \"Construction\", \"Logistics\",\n",
    "        \"Customer Support\", \"Security Services\", \"Miscellaneous\"\n",
    "    ]\n",
    "    \n",
    "    return prompt_expert(\n",
    "        action_context=action_context,\n",
    "        description_of_expert=\"A senior financial analyst with deep expertise in corporate spending categorization.\",\n",
    "        prompt=f\"Given the following description: '{description}', classify the expense into one of these categories:\\n{categories}\"\n",
    "    )\n"
   ]
  },
  {
   "cell_type": "markdown",
   "id": "70dd317a",
   "metadata": {},
   "source": [
    "## Step 2: Creating the Purchasing Rules Expert"
   ]
  },
  {
   "cell_type": "code",
   "execution_count": null,
   "id": "3a0b7450",
   "metadata": {},
   "outputs": [],
   "source": [
    "\n",
    "@register_tool(tags=[\"invoice_processing\", \"validation\"])\n",
    "def check_purchasing_rules(action_context: ActionContext, invoice_data: dict) -> dict:\n",
    "    \"\"\"\n",
    "    Validate an invoice against company purchasing policies.\n",
    "    \"\"\"\n",
    "    rules_path = \"config/purchasing_rules.txt\"\n",
    "    \n",
    "    try:\n",
    "        with open(rules_path, \"r\") as f:\n",
    "            purchasing_rules = f.read()\n",
    "    except FileNotFoundError:\n",
    "        purchasing_rules = \"No rules available. Assume all invoices are compliant.\"\n",
    "\n",
    "    return prompt_expert(\n",
    "        action_context=action_context,\n",
    "        description_of_expert=\"A corporate procurement compliance officer with extensive knowledge of purchasing policies.\",\n",
    "        prompt=f\"\"\"\n",
    "        Given this invoice data: {invoice_data}, check whether it complies with company purchasing rules.\n",
    "        The latest purchasing rules are as follows:\n",
    "        \n",
    "        {purchasing_rules}\n",
    "        \n",
    "        Identify any violations or missing requirements. Respond with:\n",
    "        - \"compliant\": true or false\n",
    "        - \"issues\": A brief explanation of any problems found\n",
    "        \"\"\"\n",
    "    )\n"
   ]
  },
  {
   "cell_type": "markdown",
   "id": "a6b1e88f",
   "metadata": {},
   "source": [
    "\n",
    "### Example: Updating Purchasing Rules Without Code Changes\n",
    "\n",
    "Suppose our rules file contains:\n",
    "\n",
    "```\n",
    "1. All purchases over $5,000 require pre-approval.\n",
    "2. IT equipment purchases must be from approved vendors.\n",
    "3. Travel expenses must include a justification.\n",
    "4. Consulting fees over $10,000 require an SOW (Statement of Work).\n",
    "```\n",
    "\n",
    "**Invoice Data Example:**\n"
   ]
  },
  {
   "cell_type": "code",
   "execution_count": null,
   "id": "298ca490",
   "metadata": {},
   "outputs": [],
   "source": [
    "\n",
    "invoice_data = {\n",
    "    \"invoice_number\": \"7890\",\n",
    "    \"date\": \"2025-03-10\",\n",
    "    \"vendor\": \"Tech Solutions Inc.\",\n",
    "    \"total_amount\": 6000,\n",
    "    \"line_items\": [\n",
    "        {\"description\": \"High-end workstation\", \"quantity\": 1, \"total\": 6000}\n",
    "    ]\n",
    "}\n"
   ]
  },
  {
   "cell_type": "markdown",
   "id": "7d11b93e",
   "metadata": {},
   "source": [
    "## Generating Structured Responses Rather than Free Text"
   ]
  },
  {
   "cell_type": "code",
   "execution_count": null,
   "id": "7fef3aad",
   "metadata": {},
   "outputs": [],
   "source": [
    "\n",
    "@register_tool(tags=[\"invoice_processing\", \"validation\"])\n",
    "def check_purchasing_rules(action_context: ActionContext, invoice_data: dict) -> dict:\n",
    "    \"\"\"\n",
    "    Validate an invoice against company purchasing policies, returning a structured response.\n",
    "    \"\"\"\n",
    "    rules_path = \"config/purchasing_rules.txt\"\n",
    "\n",
    "    try:\n",
    "        with open(rules_path, \"r\") as f:\n",
    "            purchasing_rules = f.read()\n",
    "    except FileNotFoundError:\n",
    "        purchasing_rules = \"No rules available. Assume all invoices are compliant.\"\n",
    "\n",
    "    validation_schema = {\n",
    "        \"type\": \"object\",\n",
    "        \"properties\": {\n",
    "            \"compliant\": {\"type\": \"boolean\"},\n",
    "            \"issues\": {\"type\": \"string\"}\n",
    "        }\n",
    "    }\n",
    "\n",
    "    return prompt_llm_for_json(\n",
    "        action_context=action_context,\n",
    "        schema=validation_schema,\n",
    "        prompt=f\"\"\"\n",
    "        Given this invoice data: {invoice_data}, check whether it complies with company purchasing rules.\n",
    "        The latest purchasing rules are as follows:\n",
    "        \n",
    "        {purchasing_rules}\n",
    "        \n",
    "        Respond with a JSON object containing:\n",
    "        - `compliant`: true if the invoice follows all policies, false otherwise.\n",
    "        - `issues`: A brief explanation of any violations or missing requirements.\n",
    "        \"\"\"\n",
    "    )\n"
   ]
  },
  {
   "cell_type": "markdown",
   "id": "b01c0ed9",
   "metadata": {},
   "source": [
    "## Step 3: Updating the Invoice Processing Agent"
   ]
  },
  {
   "cell_type": "code",
   "execution_count": null,
   "id": "46656b28",
   "metadata": {},
   "outputs": [],
   "source": [
    "\n",
    "def create_invoice_agent():\n",
    "    action_registry = PythonActionRegistry()\n",
    "\n",
    "    goals = [\n",
    "        Goal(\n",
    "            name=\"Persona\",\n",
    "            description=\"You are an Invoice Processing Agent, specialized in handling invoices efficiently.\"\n",
    "        ),\n",
    "        Goal(\n",
    "            name=\"Process Invoices\",\n",
    "            description=\"\"\"\n",
    "            Your goal is to process invoices accurately. For each invoice:\n",
    "            1. Extract key details such as vendor, amount, and line items.\n",
    "            2. Generate a one-sentence summary of the expenditure.\n",
    "            3. Categorize the expenditure using an expert.\n",
    "            4. Validate the invoice against purchasing policies.\n",
    "            5. Store the processed invoice with categorization and validation status.\n",
    "            6. Return a summary of the invoice processing results.\n",
    "            \"\"\"\n",
    "        )\n",
    "    ]\n",
    "\n",
    "    environment = PythonEnvironment()\n",
    "\n",
    "    return Agent(\n",
    "        goals=goals,\n",
    "        agent_language=AgentFunctionCallingActionLanguage(),\n",
    "        action_registry=action_registry,\n",
    "        generate_response=generate_response,\n",
    "        environment=environment\n",
    "    )\n"
   ]
  },
  {
   "cell_type": "markdown",
   "id": "76020e27",
   "metadata": {},
   "source": [
    "## Step 4: Testing the New Capabilities"
   ]
  },
  {
   "cell_type": "code",
   "execution_count": null,
   "id": "9e6a0fab",
   "metadata": {},
   "outputs": [],
   "source": [
    "\n",
    "invoice_text = \"\"\"\n",
    "    Invoice #4567\n",
    "    Date: 2025-02-01\n",
    "    Vendor: Tech Solutions Inc.\n",
    "    Items: \n",
    "      - Laptop - $1,200\n",
    "      - External Monitor - $300\n",
    "    Total: $1,500\n",
    "\"\"\"\n",
    "\n",
    "agent = create_invoice_agent()\n",
    "response = agent.run(f\"Process this invoice:\\n\\n{invoice_text}\")\n",
    "print(response)\n"
   ]
  }
 ],
 "metadata": {},
 "nbformat": 4,
 "nbformat_minor": 5
}